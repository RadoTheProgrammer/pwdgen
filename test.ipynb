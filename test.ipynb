{
 "cells": [
  {
   "cell_type": "code",
   "execution_count": 17,
   "metadata": {},
   "outputs": [
    {
     "name": "stdout",
     "output_type": "stream",
     "text": [
      "3.35e+21\n"
     ]
    }
   ],
   "source": [
    "syllables=9\n",
    "result =((21*5)**syllables # syllabes\n",
    "    * 12 # special characters\n",
    "    * syllables # idx separator\n",
    "    * 10*2 # digit\n",
    "    )\n",
    "#result = (26+26)**12\n",
    "#result = (26+26+10+10)**12\n",
    "#result = (26+26+10+10)**8\n",
    "#result =(20*6)**5 * 10*5 * 10*2\n",
    "print(f\"{result:.2e}\")"
   ]
  },
  {
   "cell_type": "code",
   "execution_count": 19,
   "metadata": {},
   "outputs": [
    {
     "data": {
      "text/plain": [
       "'Duhaguxohaqiqybeco!9'"
      ]
     },
     "execution_count": 19,
     "metadata": {},
     "output_type": "execute_result"
    }
   ],
   "source": [
    "import pwdgen\n",
    "pwdgen.generate(9)"
   ]
  },
  {
   "cell_type": "code",
   "execution_count": null,
   "metadata": {},
   "outputs": [],
   "source": []
  }
 ],
 "metadata": {
  "kernelspec": {
   "display_name": "Python 3",
   "language": "python",
   "name": "python3"
  },
  "language_info": {
   "codemirror_mode": {
    "name": "ipython",
    "version": 3
   },
   "file_extension": ".py",
   "mimetype": "text/x-python",
   "name": "python",
   "nbconvert_exporter": "python",
   "pygments_lexer": "ipython3",
   "version": "3.13.3"
  }
 },
 "nbformat": 4,
 "nbformat_minor": 2
}
